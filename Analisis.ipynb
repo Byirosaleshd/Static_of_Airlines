{
 "cells": [
  {
   "cell_type": "code",
   "execution_count": 1,
   "metadata": {},
   "outputs": [],
   "source": [
    "#Importamos las librerias\n",
    "import sqlite3\n",
    "import pandas as pd\n",
    "import numpy as np # Algebra linea\n",
    "import matplotlib.pyplot as plt"
   ]
  },
  {
   "cell_type": "code",
   "execution_count": 6,
   "metadata": {},
   "outputs": [],
   "source": [
    "#with sqlite3.connect(\"travel.sqlite\") as conn:\n",
    "#   cursor = conn.cursor()\n",
    "#    cursor.execute(\"SELECT * FROM aircrafts_data\")\n",
    "#   results = cursor.fetchall()\n",
    "#    results_df = pd.DataFrame(results)\n",
    "#    print(results_df)\n",
    "#    conn.close()    "
   ]
  },
  {
   "cell_type": "code",
   "execution_count": null,
   "metadata": {},
   "outputs": [],
   "source": []
  }
 ],
 "metadata": {
  "kernelspec": {
   "display_name": "Python 3",
   "language": "python",
   "name": "python3"
  },
  "language_info": {
   "codemirror_mode": {
    "name": "ipython",
    "version": 3
   },
   "file_extension": ".py",
   "mimetype": "text/x-python",
   "name": "python",
   "nbconvert_exporter": "python",
   "pygments_lexer": "ipython3",
   "version": "3.12.2"
  }
 },
 "nbformat": 4,
 "nbformat_minor": 2
}
