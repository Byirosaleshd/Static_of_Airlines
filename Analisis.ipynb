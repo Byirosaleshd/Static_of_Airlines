{
 "cells": [
  {
   "cell_type": "code",
   "execution_count": 1,
   "metadata": {},
   "outputs": [],
   "source": [
    "#Importamos las librerias\n",
    "import sqlite3\n",
    "import pandas as pd\n",
    "import numpy as np # Algebra linea\n",
    "import matplotlib.pyplot as plt"
   ]
  },
  {
   "cell_type": "code",
   "execution_count": 3,
   "metadata": {},
   "outputs": [
    {
     "name": "stdout",
     "output_type": "stream",
     "text": [
      "     0                                                  1      2\n",
      "0  773    {\"en\": \"Boeing 777-300\", \"ru\": \"Боинг 777-300\"}  11100\n",
      "1  763    {\"en\": \"Boeing 767-300\", \"ru\": \"Боинг 767-300\"}   7900\n",
      "2  SU9  {\"en\": \"Sukhoi Superjet-100\", \"ru\": \"Сухой Суп...   3000\n",
      "3  320  {\"en\": \"Airbus A320-200\", \"ru\": \"Аэробус A320-...   5700\n",
      "4  321  {\"en\": \"Airbus A321-200\", \"ru\": \"Аэробус A321-...   5600\n",
      "5  319  {\"en\": \"Airbus A319-100\", \"ru\": \"Аэробус A319-...   6700\n",
      "6  733    {\"en\": \"Boeing 737-300\", \"ru\": \"Боинг 737-300\"}   4200\n",
      "7  CN1  {\"en\": \"Cessna 208 Caravan\", \"ru\": \"Сессна 208...   1200\n",
      "8  CR2  {\"en\": \"Bombardier CRJ-200\", \"ru\": \"Бомбардье ...   2700\n"
     ]
    }
   ],
   "source": [
    "with sqlite3.connect(\"travel.sqlite\") as conn:\n",
    "    cursor = conn.cursor()\n",
    "    cursor.execute(\"SELECT * FROM aircrafts_data\")\n",
    "    results = cursor.fetchall()\n",
    "    results_df = pd.DataFrame(results)\n",
    "    print(results_df)\n",
    "    conn.close()    "
   ]
  },
  {
   "cell_type": "code",
   "execution_count": null,
   "metadata": {},
   "outputs": [],
   "source": []
  }
 ],
 "metadata": {
  "kernelspec": {
   "display_name": "Python 3",
   "language": "python",
   "name": "python3"
  },
  "language_info": {
   "codemirror_mode": {
    "name": "ipython",
    "version": 3
   },
   "file_extension": ".py",
   "mimetype": "text/x-python",
   "name": "python",
   "nbconvert_exporter": "python",
   "pygments_lexer": "ipython3",
   "version": "3.12.2"
  }
 },
 "nbformat": 4,
 "nbformat_minor": 2
}
