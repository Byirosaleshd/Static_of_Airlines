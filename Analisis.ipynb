{
 "cells": [
  {
   "cell_type": "code",
   "execution_count": null,
   "metadata": {},
   "outputs": [],
   "source": [
    "#Descarga los paquetes necesarios por si alguien no los tiene\n",
    "!pip install pandas\n",
    "!pip install sqlite3 \n",
    "!pip install numpy\n",
    "!pip install seaborn"
   ]
  },
  {
   "cell_type": "code",
   "execution_count": 63,
   "metadata": {},
   "outputs": [],
   "source": [
    "#Llamamos las librerias\n",
    "import sqlite3 as sql\n",
    "import pandas as pd\n",
    "import numpy as np # Algebra linear\n",
    "import seaborn as sns\n",
    "import matplotlib.pyplot as plt"
   ]
  },
  {
   "cell_type": "code",
   "execution_count": 66,
   "metadata": {},
   "outputs": [
    {
     "name": "stdout",
     "output_type": "stream",
     "text": [
      "  aircraft_code                                              model  range\n",
      "0           773    {\"en\": \"Boeing 777-300\", \"ru\": \"Боинг 777-300\"}  11100\n",
      "1           763    {\"en\": \"Boeing 767-300\", \"ru\": \"Боинг 767-300\"}   7900\n",
      "2           SU9  {\"en\": \"Sukhoi Superjet-100\", \"ru\": \"Сухой Суп...   3000\n",
      "3           320  {\"en\": \"Airbus A320-200\", \"ru\": \"Аэробус A320-...   5700\n",
      "4           321  {\"en\": \"Airbus A321-200\", \"ru\": \"Аэробус A321-...   5600\n",
      "5           319  {\"en\": \"Airbus A319-100\", \"ru\": \"Аэробус A319-...   6700\n",
      "6           733    {\"en\": \"Boeing 737-300\", \"ru\": \"Боинг 737-300\"}   4200\n",
      "7           CN1  {\"en\": \"Cessna 208 Caravan\", \"ru\": \"Сессна 208...   1200\n",
      "8           CR2  {\"en\": \"Bombardier CRJ-200\", \"ru\": \"Бомбардье ...   2700\n"
     ]
    }
   ],
   "source": [
    "conn = sql.connect(\"data/travel.sqlite\")\n",
    "query = '''\n",
    "   SELECT * FROM aircrafts_data\n",
    "'''\n",
    "Aviones = pd.read_sql_query(query,conn)\n",
    "aviones = pd.DataFrame(Aviones)\n",
    "#aviones = print(aviones)\n",
    "#   cursor = conn.cursor()\n",
    "#    cursor.execute(\"SELECT * FROM aircrafts_data\")\n",
    "#   results = cursor.fetchall()\n",
    "#    results_df = pd.DataFrame(results)\n",
    "#    print(results_df) \n",
    "print(aviones)\n",
    "conn.close()    "
   ]
  },
  {
   "cell_type": "markdown",
   "metadata": {},
   "source": [
    "1. **¿Que es diferencias en los rendimientos de diferentes modelos de aviones?**\n",
    "2. **¿Analizar la frecuencia de problemas técnicos en los aviones y su impacto en los vuelos?**\n",
    "3. **¿Investigar la relación entre las características de los aviones y su número de billetes vendidos?**\n",
    "4. **¿Analizar la demanda por diferentes tipos de aviones en diferentes países?**"
   ]
  },
  {
   "cell_type": "code",
   "execution_count": null,
   "metadata": {},
   "outputs": [],
   "source": [
    "\n",
    "\n",
    "\n",
    "#top_products = pd.read_sql_query(query,conn)\n",
    "\n",
    "#top_products.plot(x=\"ProductName\",y=\"Revenue\",kind=\"bar\",figsize=(10,5),legend=False)\n",
    "\n",
    "#plt.title(\"10 Productos mas rentables\")\n",
    "\n",
    "#plt.xlab(\"Productos\")\n",
    "#plt.ylabel(\"Revenue\")\n",
    "#Plt.xticks(rotation=90)\n",
    "#plt.show()\n",
    "\n",
    "#Obteniendo los 10 empleados mas efectivos\n",
    "\n",
    "#query2 = '''\n",
    "#    SELECT FirstName || \"\" || LastName as Employee, COUNT(*)\n",
    "#    FROM Orders o\n",
    "#    JOIN Employees e\n",
    "#    ON e.EmployeeID = o.EmployeeID\n",
    "#    GROUP BY o.EmployeeID\n",
    "#    ORDER BY Total DESC\n",
    "#    LIMIT 10\n",
    "#'''\n",
    "\n",
    "#top_employees = pd.read_sql_query(query2,conn)\n",
    "\n",
    "#top_products.plot(x=\"Employee\",y=\"Total\",kind=\"bar\",figsize=(10,5),legend=False)\n",
    "\n",
    "#plt.title(\"10 Empleados mas efectivos\")\n",
    "\n",
    "#plt.xlab(\"Empleados\")\n",
    "#plt.ylabel(\"Total vendido\")\n",
    "#Plt.xticks(rotation=45)\n",
    "#plt.show()"
   ]
  }
 ],
 "metadata": {
  "kernelspec": {
   "display_name": "Python 3",
   "language": "python",
   "name": "python3"
  },
  "language_info": {
   "codemirror_mode": {
    "name": "ipython",
    "version": 3
   },
   "file_extension": ".py",
   "mimetype": "text/x-python",
   "name": "python",
   "nbconvert_exporter": "python",
   "pygments_lexer": "ipython3",
   "version": "3.12.2"
  }
 },
 "nbformat": 4,
 "nbformat_minor": 2
}
