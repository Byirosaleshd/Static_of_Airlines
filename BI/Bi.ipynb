{
 "cells": [
  {
   "cell_type": "markdown",
   "metadata": {},
   "source": [
    "Tratando los datos para importarlos a power bi"
   ]
  },
  {
   "cell_type": "code",
   "execution_count": 10,
   "metadata": {},
   "outputs": [
    {
     "ename": "ImportError",
     "evalue": "attempted relative import with no known parent package",
     "output_type": "error",
     "traceback": [
      "\u001b[1;31m---------------------------------------------------------------------------\u001b[0m",
      "\u001b[1;31mImportError\u001b[0m                               Traceback (most recent call last)",
      "Cell \u001b[1;32mIn[10], line 13\u001b[0m\n\u001b[0;32m      9\u001b[0m \u001b[38;5;28;01mimport\u001b[39;00m \u001b[38;5;21;01mnumpy\u001b[39;00m \u001b[38;5;28;01mas\u001b[39;00m \u001b[38;5;21;01mnp\u001b[39;00m \u001b[38;5;66;03m# Algebra lineal\u001b[39;00m\n\u001b[0;32m     10\u001b[0m \u001b[38;5;66;03m#from sklearn.linear_model import LinearRegression #Regression\u001b[39;00m\n\u001b[0;32m     11\u001b[0m \u001b[38;5;66;03m#from sklearn.model_selection import train_test_split #Regression\u001b[39;00m\n\u001b[0;32m     12\u001b[0m \u001b[38;5;66;03m#from sklearn.metrics import r2_score #Regression\u001b[39;00m\n\u001b[1;32m---> 13\u001b[0m \u001b[38;5;28;01mfrom\u001b[39;00m \u001b[38;5;21;01m.\u001b[39;00m\u001b[38;5;21;01m.\u001b[39;00m\u001b[38;5;21;01mAnalisis\u001b[39;00m \u001b[38;5;28;01mimport\u001b[39;00m Functions \u001b[38;5;28;01mas\u001b[39;00m ft \u001b[38;5;66;03m#Functions for this program\u001b[39;00m\n\u001b[0;32m     14\u001b[0m \u001b[38;5;28;01mimport\u001b[39;00m \u001b[38;5;21;01mdatetime\u001b[39;00m \u001b[38;5;28;01mas\u001b[39;00m \u001b[38;5;21;01mdt\u001b[39;00m \u001b[38;5;66;03m#Control for Time\u001b[39;00m\n\u001b[0;32m     15\u001b[0m \u001b[38;5;28;01mfrom\u001b[39;00m \u001b[38;5;21;01mpandas\u001b[39;00m \u001b[38;5;28;01mimport\u001b[39;00m json_normalize \u001b[38;5;66;03m#Json utilities\u001b[39;00m\n",
      "\u001b[1;31mImportError\u001b[0m: attempted relative import with no known parent package"
     ]
    }
   ],
   "source": [
    "#Llamamos las librerias\n",
    "import streamlit as st #App\n",
    "import pandas as pd #Statics\n",
    "import matplotlib.pyplot as plt #Graficos\n",
    "import seaborn as sns #Graficos\n",
    "import plotly.express as px #Graficos\n",
    "import plotly.graph_objs as go #Graficos\n",
    "import sqlite3 as sql #Database\n",
    "import numpy as np # Algebra lineal\n",
    "#from sklearn.linear_model import LinearRegression #Regression\n",
    "#from sklearn.model_selection import train_test_split #Regression\n",
    "#from sklearn.metrics import r2_score #Regression\n",
    "from ..Analisis import Functions as ft #Functions for this program\n",
    "import datetime as dt #Control for Time\n",
    "from pandas import json_normalize #Json utilities\n",
    "import json #Json utilites\n",
    "import Sql as s #Sql querys\n",
    "from PIL import Image #Images\n",
    "from deep_translator import GoogleTranslator #Traducir\n",
    "\n",
    "# Conectar a la base de datos SQLite\n",
    "conn = sql.connect('Data/travel.sqlite')\n",
    "translator = GoogleTranslator(source=\"en\", target=\"es\")"
   ]
  },
  {
   "cell_type": "code",
   "execution_count": null,
   "metadata": {},
   "outputs": [],
   "source": []
  }
 ],
 "metadata": {
  "kernelspec": {
   "display_name": "Python 3",
   "language": "python",
   "name": "python3"
  },
  "language_info": {
   "codemirror_mode": {
    "name": "ipython",
    "version": 3
   },
   "file_extension": ".py",
   "mimetype": "text/x-python",
   "name": "python",
   "nbconvert_exporter": "python",
   "pygments_lexer": "ipython3",
   "version": "3.12.2"
  }
 },
 "nbformat": 4,
 "nbformat_minor": 2
}
