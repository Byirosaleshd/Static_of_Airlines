{
 "cells": [
  {
   "cell_type": "markdown",
   "metadata": {},
   "source": [
    "# Planteamiento del problema\n",
    "\n",
    "Las aerolineas son muy conocidas por llevar sus estadisticas controladas en bases de datos o estructuras de datos similares en las cuales guardan datos sobre sus aviones, reservaciones, tickets, descuentos, vuelos, destinos, precios, y una gran cantidad de cosas mas en sus instalaciones, ahora porque guardan tantos datos de sus vuelos porque es necesario analizarlos  y para que sirve llevar esta practica a cabo.\n",
    "\n",
    "Cada marca comercial y no comercial debe llevar ciertas regulaciones que ameritan debido que llevan un diseño especifico en el cual trasportan transporte de pasajaeros y carga, en estas regulaciones encontramos que se debe contar con registros de los datos de los vuelos y voz, debido a esto las organizaciones adoptan analisis predictivos, con el fin de lograr antecederse a situaciones extraordinarias que desafien las operaciones, tienen muchas razones para almacenar datos en sus bases de datos por distintas razones importantes pero principalmente relaciones con la seguridad operativa, la eficiencia y la experiencia del pasajero por:\n",
    "\n",
    "1. **Seguimiento de Vuelos y Rendimiento de Aeronaves**\n",
    "2. **Gestion de Pasajeros**\n",
    "3. **Seguimiento del equipaje**\n",
    "4. **Optimización de Operaciones y Beneficios**\n",
    "5. **Seguridad y control aduanero**\n",
    "6. **Eficiencia operativa**\n",
    "7. **Mejora de la experiencia del cliente**\n",
    "\n",
    "Entonces entrando en detalles sobre el problema:\n",
    "   -Las bases de datos ayudan para el funcinamiento adecuado en las aerolineas, permiten mantener la informacion de manera segura y tomar decisiciones que mejoren las estrategias de marketing o CEO de los mismos aviones por que la calidad de un avion se vera afectado si no llevan calidad de datos y no tienen registros de que tienen que hacer al pasar el tiempo con los aviones ya sea una reparacion o un lugar especifico donde deba viajar por lo que ayudan en decisiciones estrategicas de la compañia en base a estas estadisticas.\n",
    "\n",
    "Ahora llegamos a una pregunta, ¿Por qué o para qué Analizar la data de las aerolineas?\n",
    "   -Las aerolineas recurren a tener horarios especificos de sus vuelos y el estado de sus aeronaves, incluyendo datos sobre las cancelaciones, tiempo, retrasos.\n",
    "   -Manejar informacion sobre pasajaros(nombres, numeros de pasaporte, preferencias de asientos, historial de viajes) en grandes volumenes.\n",
    "   -Necesitan tener la direccion del equipaje para que siempre llegue al destino correcto.\n",
    "   -Se puede almacenar y consultar los datos de manera adecuada de manera que se pueda optar por mejores decisiones y mejorar la puntualidad.\n",
    "   -Las bases de datos les ayudan a gestionar esta información de manera segura y a proporcionar un servicio personalizado a los pasajeros.\n",
    "   -Las bases de datos almacenan información sobre el equipaje facturado, su ubicación y su estado.\n",
    "   -Las grandes bases de datos permiten a las aerolíneas analizar datos históricos y tendencias para optimizar la ocupación de los vuelos.\n",
    "   -Pueden ajustar las rutas, frecuencias y capacidades de las aeronaves para maximizar los beneficios.\n",
    "\n",
    "\n",
    "## Preguntas\n",
    "- Investigar las diferencias en los rendimientos de diferentes modelos de aviones.\n",
    "- Analizar la frecuencia de problemas técnicos en los aviones y su impacto en los vuelos.\n",
    "- Investigar la relación entre las características de los aviones y su número de billetes vendidos.\n",
    "- Analizar la demanda por diferentes tipos de aviones en diferentes países.\n",
    "\n",
    "\n",
    "\n",
    "### Variables a ser evaluadas\n",
    "El monto total de la reservas y los precios de los tickets de vuelo.\n",
    "\n"
   ]
  }
 ],
 "metadata": {
  "kernelspec": {
   "display_name": "Python 3",
   "language": "python",
   "name": "python3"
  },
  "language_info": {
   "codemirror_mode": {
    "name": "ipython",
    "version": 3
   },
   "file_extension": ".py",
   "mimetype": "text/x-python",
   "name": "python",
   "nbconvert_exporter": "python",
   "pygments_lexer": "ipython3",
   "version": "3.12.2"
  }
 },
 "nbformat": 4,
 "nbformat_minor": 2
}
