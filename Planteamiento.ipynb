{
 "cells": [
  {
   "cell_type": "markdown",
   "metadata": {},
   "source": [
    "# Planteamiento del problema\n",
    "\n",
    "\n",
    "### \"Determinar el mejor modelo de avión para vuelos más eficientes en distintos aeropuertos de los continentes de Asia y Europa durante el año 2017\".\n",
    "\n",
    "# Formulación del Problema \n",
    "\n",
    "### a)\t¿Qué modelo de avión realiza una mayor cantidad de vuelos, y cuál lo hace en un menor tiempo? \n",
    "### b)\t¿Qué modelo de avión ha vendido en promedio una mayor cantidad de puestos según la clase del vuelo?\n",
    "### c)\tDentro de los modelos de aviones con códigos: 773, 763 y SU9. ¿De cuánto ha sido la variabilidad de precios según el destino y la clase de vuelo?\n",
    "### d)\tSi los aviones realizan vuelos entre los continentes de Asia y Europa:\n",
    "### 1-\t¿Cuáles son las ciudades en recibir vuelos cuyo modelo de avión pertenece al código 763?\n",
    "### 2-\tDentro de los aeropuertos asiáticos, ¿Quiénes recibe una mayor cantidad de vuelos provenientes de aerolineas europeas?\n",
    "### E)\tEntre los modelos de aviones con los códigos: CR2, 733 y CN1 se desea conocer lo siguiente: \n",
    "### 1-\tEl promedio y la variabilidad de los vuelos realizados.\n",
    "### 2-  ¿Cuántos de estos modelos tienen una mayor cantidad de vuelos realizados con boletos pertenecientes a la clase Business?\n",
    "\n",
    "\n",
    "# Objetivos \n",
    "### •\tObjetivo General\n",
    "### “Analizar el mejor modelo de avión para vuelos más eficientes en distintos aeropuertos de los continentes de Asia y Europa” \n",
    "### •\tObjetivos Específicos\n",
    "### 1.\tIdentificar las cuidades que reciben mayor cantidad de vuelos.\n",
    "### 2.\tDefinir el tiempo de vuelo entre los modelos de aviones.  \n",
    "### 3.\tAnalizar la cantidad de personas que realizan los vuelos.\n",
    "\n",
    "# Justificación\n",
    "### El desarrollo aeronáutico ha sido un proceso fascinante que ha evolucionado a lo largo de los años. Desde los primeros intentos de vuelo de los hermanos Wright en 1903, la aviación ha experimentado avances significativos en tecnología, diseño y seguridad. Se han creado aviones cada vez más eficientes, rápidos y seguros, permitiendo la expansión de la industria aeronáutica y la conectividad global.  \n",
    "### La finalidad de llevar a cabo esta investigación estadística consiste en conocer el modelo idóneo para la realización de vuelos nacionales e internacionales en el continente europeo y asiático identificando las capacidades de cada tipo de avión junto con las aerolineas que realizan los vuelos, así como también, se desea conocer la cantidad de pasajeros que prefieren un modelo y una clase de vuelo particular. \n",
    "\n",
    "# Marco Teórico \n",
    "### Para la Real Academia Española (RAE) un avión es un “Vehículo aéreo más pesado que el aire, provisto de alas y de uno o más motores que le sirven de propulsión”. En la actualidad transportarse en ellos es una alternativa rápida y segura para llegar a cualquier destino. \n",
    "### En la historia de la aviación destacan en gran medida los hermanos Wright quienes en 1903 diseñaron el primer avión a motor que fue conducido por un piloto y Alberto Santos autor en 1906 del primer vuelo sin ayuda en su despegue. \n",
    "### Por otro lado, durante el siglo XIX, la participación de los aviones fue en el uso militar y en las acrobacias, oficio altamente lucrativo para la época, mas el negocio del transporte aéreo comercial de pasajeros inicio en Alemania con los dirigibles Zeppelin que se utilizaron desde 1910 hasta comienzos de la Primera Guerra Mundial, en 1914, habiéndose transportado en ese período a unas 34.000 personas entre pasajeros y tripulación.\n",
    "### Es propicio indicar que, al consolidarse la idea de desarrollar aviones para vuelos comerciales, fueron numerosas las empresas que surgieron para tal fin, destacándose Boeing Airplane Company fundada en 1916 en la cuidad de Seattle, Estados Unidos por William E. Boeing (1881-1956), fue una de las empresas pioneras en la fabricación de aviones mas reconocidos y exitosos del mundo debido a su calidad y fiabilidad de adaptarse a las necesidades de diferentes aerolineas y mercados.  Asimismo, presenta una amplia gama de aviones diseñados como el primer avión a reacción, el Boeing 707, y el primer avión de doble pasillo, el Boeing 747. \n",
    "### Por otra parte, la empresa de Aviones Airbus es de carácter multinacional de origen europeo dedicada a la fabricación de aviones comerciales y militares. Fue fundada el 18 de diciembre de 1970 como un consorcio entre empresas de Francia, Alemania, España y el Reino Unido, con el objetivo de competir con la empresa estadounidense Boeing. El primer avión comercial de Airbus fue el A300, que realizó su primer vuelo en 1972 y fue el primer avión bimotor de pasajeros de fuselaje ancho en el mundo. A partir de entonces, Airbus ha continuado desarrollando y produciendo una amplia gama de aviones comerciales, desde aviones de pasillo único como el A320 hasta aviones de fuselaje ancho como el A350.\n",
    "### Por otra parte, la empresa Cessna Aircraft Company fue fundada en 1927 por Clyde Cessna en Wichita, Kansas, Estados Unidos, con la intención de fabricar aviones de tamaño pequeño, pero con el pasar de los años se fue expandiendo y diversificando sus productos. Seguidamente, en la década de 1950, Cessna se convirtió en el fabricante de aviones civiles más grande del mundo, produciendo una amplia gama de aeronaves, desde aviones de entrenamiento hasta aviones ejecutivos. Durante la Segunda Guerra Mundial, la compañía también fabricó aviones militares para el esfuerzo de guerra de Estados Unidos. En los años siguientes, Cessna continuó creciendo y expandiendo su línea de productos, introduciendo aviones como el Cessna 172, que se convirtió en uno de los aviones más populares en la historia de la aviación civil. En 1985, la compañía fue adquirida por General Dynamics, y luego en 1992 fue vendida a Textron Aviation, donde sigue siendo una subsidiaria.\n",
    "\n",
    "### Es importante mencionar que, la empresa Bombardier Inc. es un fabricante canadiense de aeronaves comerciales fundado en 1942. Originalmente, fabricante de motos de nieve, ingresó al negocio ferroviario en 1970 y al sector aeroespacial en 1986. Desde entonces, Bombardier ha diseñado, construido y respaldado más de 4900 aeronaves, algunas de los cuales incluye el Global 7500, el jet de negocios más grande y de mayor alcance del mundo. Desde 2021, Bombardier se centra estratégicamente en el sector de la aviación comercial, después de vender su división de transporte ferroviario a Alstom.\n",
    "### Actualmente, cada una de estas empresas busca la eficiencia, sostenibilidad y seguridad adaptándose hábilmente a las demandas presentes en el mundo por medio de la implementación de nuevas tecnologías, lo que también nos lleva a señalar que su futuro está dirigido a la innovación continua. \n",
    "\n",
    "\n",
    "\n",
    "\n",
    "\n",
    "\n",
    "\n",
    "### Variables a ser evaluadas\n",
    "El monto total de la reservas y los precios de los tickets de vuelo.\n",
    "\n"
   ]
  }
 ],
 "metadata": {
  "kernelspec": {
   "display_name": "Python 3",
   "language": "python",
   "name": "python3"
  },
  "language_info": {
   "codemirror_mode": {
    "name": "ipython",
    "version": 3
   },
   "file_extension": ".py",
   "mimetype": "text/x-python",
   "name": "python",
   "nbconvert_exporter": "python",
   "pygments_lexer": "ipython3",
   "version": "3.12.2"
  }
 },
 "nbformat": 4,
 "nbformat_minor": 2
}
