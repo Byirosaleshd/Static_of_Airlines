{
 "cells": [
  {
   "cell_type": "markdown",
   "metadata": {},
   "source": [
    "# Planteamiento del problema\n",
    "\n",
    "\n",
    "\"Determinar el mejor modelo de avión para vuelos más eficientes en distintos aeropuertos de los continentes de Asia y Europa durante el año 2017\".\n",
    "\n",
    "# Formulación del Problema \n",
    "\n",
    "### a)\t¿Qué modelo de avión realiza una mayor cantidad de vuelos, y cuál lo hace en un menor tiempo? \n",
    "### b)\t¿Qué modelo de avión ha vendido en promedio una mayor cantidad de puestos según la clase del vuelo?\n",
    "### c)\tDentro de los modelos de aviones con códigos: 773, 763 y SU9. ¿De cuánto ha sido la variabilidad de precios según el destino y la clase de vuelo?\n",
    "### d)\tSi los aviones realizan vuelos entre los continentes de Asia y Europa:\n",
    "### 1-\t¿Cuáles son las ciudades en recibir vuelos cuyo modelo de avión pertenece al código 763?\n",
    "### 2-\tDentro de los aeropuertos asiáticos, ¿Quiénes recibe una mayor cantidad de vuelos provenientes de aerolineas europeas?\n",
    "### E)\tEntre los modelos de aviones con los códigos: CR2, 733 y CN1 se desea conocer lo siguiente: \n",
    "### 1-\tEl promedio y la variabilidad de los vuelos realizados.\n",
    "### 2-  ¿Cuántos de estos modelos tienen una mayor cantidad de vuelos realizados con boletos pertenecientes a la clase Business?\n",
    "\n",
    "\n",
    "\n",
    "\n",
    "\n",
    "\n",
    "\n",
    "\n",
    "\n",
    "### Variables a ser evaluadas\n",
    "El monto total de la reservas y los precios de los tickets de vuelo.\n",
    "\n"
   ]
  }
 ],
 "metadata": {
  "kernelspec": {
   "display_name": "Python 3",
   "language": "python",
   "name": "python3"
  },
  "language_info": {
   "codemirror_mode": {
    "name": "ipython",
    "version": 3
   },
   "file_extension": ".py",
   "mimetype": "text/x-python",
   "name": "python",
   "nbconvert_exporter": "python",
   "pygments_lexer": "ipython3",
   "version": "3.12.2"
  }
 },
 "nbformat": 4,
 "nbformat_minor": 2
}
