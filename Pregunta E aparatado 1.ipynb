{
 "cells": [
  {
   "cell_type": "code",
   "execution_count": null,
   "metadata": {},
   "outputs": [],
   "source": [
    "E.\tEntre los modelos de aviones con los códigos: CR2, 733 y CN1 se desea conocer lo siguiente: \n",
    "1\tEl promedio y la variabilidad de los vuelos realizados.\n",
    "2\t¿Cuántos de estos modelos tienen una mayor cantidad de vuelos realizados con boletos pertenecientes a la clase Business?\n",
    "\n",
    "SELECT  aircraft_code, status, count ( status) AS 'Frecuencia de los vuelos realizados'\n",
    "FROM flights\n",
    "WHERE status IN (\"Arrived\") AND aircraft_code IN ('CR2','733','CN1')\n",
    "GROUP BY aircraft_code\n",
    "ORDER BY 'Frecuencia de los vuelos realizados' DESC;\n"
   ]
  },
  {
   "cell_type": "code",
   "execution_count": 1,
   "metadata": {},
   "outputs": [],
   "source": [
    "import pandas as pd\n",
    "import sqlite3\n",
    "import matplotlib\n",
    "\n",
    "#Conexion con la base de datos \n",
    "conn = sqlite3.connect(\"travel.sqlite\")"
   ]
  },
  {
   "cell_type": "code",
   "execution_count": null,
   "metadata": {},
   "outputs": [],
   "source": [
    "seats= 'ELECT  aircraft_code, status, count ( status) AS 'Frecuencia de los vuelos realizados'\n",
    "FROM flights\n",
    "WHERE status IN (\"Arrived\") AND aircraft_code IN ('CR2','733','CN1')\n",
    "GROUP BY aircraft_code\n",
    "ORDER BY 'Frecuencia de los vuelos realizados' DESC;'\n",
    "\n",
    "DF_seats =pd.read_sql_query(sql = seats, con=conn)\n",
    "DF_seats"
   ]
  }
 ],
 "metadata": {
  "kernelspec": {
   "display_name": "Python 3",
   "language": "python",
   "name": "python3"
  },
  "language_info": {
   "codemirror_mode": {
    "name": "ipython",
    "version": 3
   },
   "file_extension": ".py",
   "mimetype": "text/x-python",
   "name": "python",
   "nbconvert_exporter": "python",
   "pygments_lexer": "ipython3",
   "version": "3.12.3"
  }
 },
 "nbformat": 4,
 "nbformat_minor": 2
}
